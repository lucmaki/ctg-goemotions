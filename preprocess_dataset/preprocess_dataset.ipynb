{
 "cells": [
  {
   "cell_type": "markdown",
   "id": "198069f2",
   "metadata": {},
   "source": [
    "# Preprocessing: dataset -> corpora"
   ]
  },
  {
   "cell_type": "code",
   "execution_count": 1,
   "id": "f74c8464",
   "metadata": {},
   "outputs": [],
   "source": [
    "import pandas as pd"
   ]
  },
  {
   "cell_type": "code",
   "execution_count": 3,
   "id": "c695fef9",
   "metadata": {},
   "outputs": [],
   "source": [
    "# Insert paths to the 3 parts of the GoEmotions dataset. \n",
    "data1 = pd.read_csv(\"../dataset/goemotions_1.csv\", encoding='utf8')\n",
    "data2 = pd.read_csv(\"../dataset/goemotions_2.csv\", encoding='utf8')\n",
    "data3 = pd.read_csv(\"../dataset/goemotions_3.csv\", encoding='utf8')\n",
    "df = pd.concat([data1, data2, data3])"
   ]
  },
  {
   "cell_type": "code",
   "execution_count": 5,
   "id": "e40b7753",
   "metadata": {
    "run_control": {
     "marked": true
    }
   },
   "outputs": [],
   "source": [
    "# For each emotion creates corpus from dataset: removes duplicates, <|endoftext|> seperates entries then writes to file.\n",
    "emotions = [\"amusement\", \"gratitude\", \"fear\", \"disgust\", \"curiosity\", \"surprise\"]\n",
    "corpuses = []\n",
    "\n",
    "for emotion in emotions:\n",
    "    texts_to_emotion = df[[\"text\", emotion]]\n",
    "    texts_to_emotion = texts_to_emotion[texts_to_emotion[emotion]==1]\n",
    "    \n",
    "    texts = texts_to_emotion[\"text\"]\n",
    "    texts = texts[~texts.str.contains(\"[NAME]\", na=False)]\n",
    "    texts = texts[~texts.str.contains(\"[RELIGION]\", na=False)]\n",
    "\n",
    "    texts = list(set(texts))\n",
    "    corpus = \"<|endoftext|>\".join(texts)\n",
    "    file_path = \"corpora/\" + file_name\n",
    "    file_name = emotion + \".txt\"\n",
    "    f = open(file_path, \"x\", encoding='utf8')\n",
    "    f.write(corpus)\n",
    "    f.close()"
   ]
  }
 ],
 "metadata": {
  "kernelspec": {
   "display_name": "Python [conda env:casual]",
   "language": "python",
   "name": "conda-env-casual-py"
  },
  "language_info": {
   "codemirror_mode": {
    "name": "ipython",
    "version": 3
   },
   "file_extension": ".py",
   "mimetype": "text/x-python",
   "name": "python",
   "nbconvert_exporter": "python",
   "pygments_lexer": "ipython3",
   "version": "3.9.7"
  }
 },
 "nbformat": 4,
 "nbformat_minor": 5
}
